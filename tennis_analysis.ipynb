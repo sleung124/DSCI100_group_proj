{
 "cells": [
  {
   "cell_type": "code",
   "execution_count": 1,
   "metadata": {},
   "outputs": [
    {
     "name": "stderr",
     "output_type": "stream",
     "text": [
      "── \u001b[1mAttaching packages\u001b[22m ─────────────────────────────────────── tidyverse 1.3.0 ──\n",
      "\n",
      "\u001b[32m✔\u001b[39m \u001b[34mggplot2\u001b[39m 3.3.2     \u001b[32m✔\u001b[39m \u001b[34mpurrr  \u001b[39m 0.3.4\n",
      "\u001b[32m✔\u001b[39m \u001b[34mtibble \u001b[39m 3.0.3     \u001b[32m✔\u001b[39m \u001b[34mdplyr  \u001b[39m 1.0.2\n",
      "\u001b[32m✔\u001b[39m \u001b[34mtidyr  \u001b[39m 1.1.2     \u001b[32m✔\u001b[39m \u001b[34mstringr\u001b[39m 1.4.0\n",
      "\u001b[32m✔\u001b[39m \u001b[34mreadr  \u001b[39m 1.3.1     \u001b[32m✔\u001b[39m \u001b[34mforcats\u001b[39m 0.5.0\n",
      "\n",
      "Warning message:\n",
      "“package ‘ggplot2’ was built under R version 4.0.1”\n",
      "Warning message:\n",
      "“package ‘tibble’ was built under R version 4.0.2”\n",
      "Warning message:\n",
      "“package ‘tidyr’ was built under R version 4.0.2”\n",
      "Warning message:\n",
      "“package ‘dplyr’ was built under R version 4.0.2”\n",
      "── \u001b[1mConflicts\u001b[22m ────────────────────────────────────────── tidyverse_conflicts() ──\n",
      "\u001b[31m✖\u001b[39m \u001b[34mdplyr\u001b[39m::\u001b[32mfilter()\u001b[39m masks \u001b[34mstats\u001b[39m::filter()\n",
      "\u001b[31m✖\u001b[39m \u001b[34mdplyr\u001b[39m::\u001b[32mlag()\u001b[39m    masks \u001b[34mstats\u001b[39m::lag()\n",
      "\n",
      "Warning message:\n",
      "“package ‘tidymodels’ was built under R version 4.0.2”\n",
      "── \u001b[1mAttaching packages\u001b[22m ────────────────────────────────────── tidymodels 0.1.1 ──\n",
      "\n",
      "\u001b[32m✔\u001b[39m \u001b[34mbroom    \u001b[39m 0.7.0      \u001b[32m✔\u001b[39m \u001b[34mrecipes  \u001b[39m 0.1.13\n",
      "\u001b[32m✔\u001b[39m \u001b[34mdials    \u001b[39m 0.0.9      \u001b[32m✔\u001b[39m \u001b[34mrsample  \u001b[39m 0.0.7 \n",
      "\u001b[32m✔\u001b[39m \u001b[34minfer    \u001b[39m 0.5.4      \u001b[32m✔\u001b[39m \u001b[34mtune     \u001b[39m 0.1.1 \n",
      "\u001b[32m✔\u001b[39m \u001b[34mmodeldata\u001b[39m 0.0.2      \u001b[32m✔\u001b[39m \u001b[34mworkflows\u001b[39m 0.2.0 \n",
      "\u001b[32m✔\u001b[39m \u001b[34mparsnip  \u001b[39m 0.1.3      \u001b[32m✔\u001b[39m \u001b[34myardstick\u001b[39m 0.0.7 \n",
      "\n",
      "Warning message:\n",
      "“package ‘broom’ was built under R version 4.0.2”\n",
      "Warning message:\n",
      "“package ‘dials’ was built under R version 4.0.2”\n",
      "Warning message:\n",
      "“package ‘infer’ was built under R version 4.0.3”\n",
      "Warning message:\n",
      "“package ‘modeldata’ was built under R version 4.0.1”\n",
      "Warning message:\n",
      "“package ‘parsnip’ was built under R version 4.0.2”\n",
      "Warning message:\n",
      "“package ‘recipes’ was built under R version 4.0.1”\n",
      "Warning message:\n",
      "“package ‘tune’ was built under R version 4.0.2”\n",
      "Warning message:\n",
      "“package ‘workflows’ was built under R version 4.0.2”\n",
      "Warning message:\n",
      "“package ‘yardstick’ was built under R version 4.0.2”\n",
      "── \u001b[1mConflicts\u001b[22m ───────────────────────────────────────── tidymodels_conflicts() ──\n",
      "\u001b[31m✖\u001b[39m \u001b[34mscales\u001b[39m::\u001b[32mdiscard()\u001b[39m masks \u001b[34mpurrr\u001b[39m::discard()\n",
      "\u001b[31m✖\u001b[39m \u001b[34mdplyr\u001b[39m::\u001b[32mfilter()\u001b[39m   masks \u001b[34mstats\u001b[39m::filter()\n",
      "\u001b[31m✖\u001b[39m \u001b[34mrecipes\u001b[39m::\u001b[32mfixed()\u001b[39m  masks \u001b[34mstringr\u001b[39m::fixed()\n",
      "\u001b[31m✖\u001b[39m \u001b[34mdplyr\u001b[39m::\u001b[32mlag()\u001b[39m      masks \u001b[34mstats\u001b[39m::lag()\n",
      "\u001b[31m✖\u001b[39m \u001b[34myardstick\u001b[39m::\u001b[32mspec()\u001b[39m masks \u001b[34mreadr\u001b[39m::spec()\n",
      "\u001b[31m✖\u001b[39m \u001b[34mrecipes\u001b[39m::\u001b[32mstep()\u001b[39m   masks \u001b[34mstats\u001b[39m::step()\n",
      "\n",
      "Warning message:\n",
      "“package ‘rvest’ was built under R version 4.0.2”\n",
      "Loading required package: xml2\n",
      "\n",
      "\n",
      "Attaching package: ‘rvest’\n",
      "\n",
      "\n",
      "The following object is masked from ‘package:purrr’:\n",
      "\n",
      "    pluck\n",
      "\n",
      "\n",
      "The following object is masked from ‘package:readr’:\n",
      "\n",
      "    guess_encoding\n",
      "\n",
      "\n",
      "Registered S3 method overwritten by 'GGally':\n",
      "  method from   \n",
      "  +.gg   ggplot2\n",
      "\n"
     ]
    }
   ],
   "source": [
    "# Import Libaries\n",
    "library(tidyverse)\n",
    "library(tidymodels)\n",
    "library(repr)\n",
    "library(rvest)\n",
    "library(stringr)\n",
    "\n",
    "library(tidyverse)\n",
    "library(GGally)\n",
    "library(ISLR)\n",
    "options(repr.matrix.max.rows = 6)"
   ]
  },
  {
   "cell_type": "code",
   "execution_count": 2,
   "metadata": {},
   "outputs": [],
   "source": [
    "# Load and mutate data\n",
    "# tennis_data <- read_csv('atp2017-2019.csv')\n",
    "tennis_data_2019<-read.csv('https://raw.githubusercontent.com/JeffSackmann/tennis_atp/master/atp_matches_2019.csv')\n",
    "tennis_data_2018<-read.csv('https://raw.githubusercontent.com/JeffSackmann/tennis_atp/master/atp_matches_2018.csv')\n",
    "tennis_data_2017<-read.csv('https://raw.githubusercontent.com/JeffSackmann/tennis_atp/master/atp_matches_2017.csv')\n",
    "tennis_data <- bind_rows(tennis_data_2019, tennis_data_2018, tennis_data_2017)\n",
    "winner_data <- select(tennis_data, c(winner_name, \n",
    "                      winner_age, \n",
    "                      winner_ht, \n",
    "                      w_ace, \n",
    "                      w_df, \n",
    "                      w_svpt, \n",
    "                      w_1stIn, \n",
    "                      w_1stWon, \n",
    "                      w_SvGms, \n",
    "                      w_bpSaved, \n",
    "                      w_bpFaced)) %>%\n",
    "                rename(name=winner_name,\n",
    "                      age=winner_age,\n",
    "                      height=winner_ht,\n",
    "                      aces=w_ace,\n",
    "                      double_faults=w_df,\n",
    "                      serve_points=w_svpt,\n",
    "                      first_serves_made=w_1stIn,\n",
    "                      first_serve_points=w_1stWon,\n",
    "                      serve_games=w_SvGms,\n",
    "                      break_points_saved=w_bpSaved,\n",
    "                      break_points_faced=w_bpFaced) %>%\n",
    "                add_column(match_result='win')\n",
    "loser_data <- select(tennis_data, c(loser_name, \n",
    "                      loser_age, \n",
    "                      loser_ht, \n",
    "                      l_ace, \n",
    "                      l_df, \n",
    "                      l_svpt, \n",
    "                      l_1stIn, \n",
    "                      l_1stWon, \n",
    "                      l_SvGms, \n",
    "                      l_bpSaved, \n",
    "                      l_bpFaced)) %>%\n",
    "                rename(name=loser_name,\n",
    "                      age=loser_age,\n",
    "                      height=loser_ht,\n",
    "                      aces=l_ace,\n",
    "                      double_faults=l_df,\n",
    "                      serve_points=l_svpt,\n",
    "                      first_serves_made=l_1stIn,\n",
    "                      first_serve_points=l_1stWon,\n",
    "                      serve_games=l_SvGms,\n",
    "                      break_points_saved=l_bpSaved,\n",
    "                      break_points_faced=l_bpFaced) %>%\n",
    "                add_column(match_result='lose')\n",
    "tennis_data_mod <- bind_rows(winner_data, loser_data)"
   ]
  },
  {
   "cell_type": "code",
   "execution_count": 3,
   "metadata": {},
   "outputs": [],
   "source": [
    "# Split Data in Train and Test Set\n",
    "\n",
    "tennis_split <- initial_split(tennis_data_mod, prop=0.75, strata=match_result)\n",
    "tennis_train <- training(tennis_split)\n",
    "tennis_test <- testing(tennis_split)"
   ]
  },
  {
   "cell_type": "markdown",
   "metadata": {},
   "source": [
    "# Exploratory Data Analysis"
   ]
  },
  {
   "cell_type": "code",
   "execution_count": 6,
   "metadata": {},
   "outputs": [
    {
     "data": {
      "text/html": [
       "<table>\n",
       "<caption>A tibble: 1 × 9</caption>\n",
       "<thead>\n",
       "\t<tr><th scope=col>age</th><th scope=col>height</th><th scope=col>aces</th><th scope=col>double_faults</th><th scope=col>serve_points</th><th scope=col>first_serves_made</th><th scope=col>first_serve_points</th><th scope=col>serve_games</th><th scope=col>break_points_saved</th></tr>\n",
       "\t<tr><th scope=col>&lt;dbl&gt;</th><th scope=col>&lt;dbl&gt;</th><th scope=col>&lt;dbl&gt;</th><th scope=col>&lt;dbl&gt;</th><th scope=col>&lt;dbl&gt;</th><th scope=col>&lt;dbl&gt;</th><th scope=col>&lt;dbl&gt;</th><th scope=col>&lt;dbl&gt;</th><th scope=col>&lt;dbl&gt;</th></tr>\n",
       "</thead>\n",
       "<tbody>\n",
       "\t<tr><td>27.66748</td><td>187.2344</td><td>6.529212</td><td>3.126808</td><td>81.33671</td><td>49.86434</td><td>35.8256</td><td>12.74148</td><td>4.128627</td></tr>\n",
       "</tbody>\n",
       "</table>\n"
      ],
      "text/latex": [
       "A tibble: 1 × 9\n",
       "\\begin{tabular}{lllllllll}\n",
       " age & height & aces & double\\_faults & serve\\_points & first\\_serves\\_made & first\\_serve\\_points & serve\\_games & break\\_points\\_saved\\\\\n",
       " <dbl> & <dbl> & <dbl> & <dbl> & <dbl> & <dbl> & <dbl> & <dbl> & <dbl>\\\\\n",
       "\\hline\n",
       "\t 27.66748 & 187.2344 & 6.529212 & 3.126808 & 81.33671 & 49.86434 & 35.8256 & 12.74148 & 4.128627\\\\\n",
       "\\end{tabular}\n"
      ],
      "text/markdown": [
       "\n",
       "A tibble: 1 × 9\n",
       "\n",
       "| age &lt;dbl&gt; | height &lt;dbl&gt; | aces &lt;dbl&gt; | double_faults &lt;dbl&gt; | serve_points &lt;dbl&gt; | first_serves_made &lt;dbl&gt; | first_serve_points &lt;dbl&gt; | serve_games &lt;dbl&gt; | break_points_saved &lt;dbl&gt; |\n",
       "|---|---|---|---|---|---|---|---|---|\n",
       "| 27.66748 | 187.2344 | 6.529212 | 3.126808 | 81.33671 | 49.86434 | 35.8256 | 12.74148 | 4.128627 |\n",
       "\n"
      ],
      "text/plain": [
       "  age      height   aces     double_faults serve_points first_serves_made\n",
       "1 27.66748 187.2344 6.529212 3.126808      81.33671     49.86434         \n",
       "  first_serve_points serve_games break_points_saved\n",
       "1 35.8256            12.74148    4.128627          "
      ]
     },
     "metadata": {},
     "output_type": "display_data"
    },
    {
     "data": {
      "text/html": [
       "<table>\n",
       "<caption>A tibble: 1 × 2</caption>\n",
       "<thead>\n",
       "\t<tr><th scope=col>num_of_wins</th><th scope=col>num_of_loses</th></tr>\n",
       "\t<tr><th scope=col>&lt;int&gt;</th><th scope=col>&lt;int&gt;</th></tr>\n",
       "</thead>\n",
       "<tbody>\n",
       "\t<tr><td>6441</td><td>6441</td></tr>\n",
       "</tbody>\n",
       "</table>\n"
      ],
      "text/latex": [
       "A tibble: 1 × 2\n",
       "\\begin{tabular}{ll}\n",
       " num\\_of\\_wins & num\\_of\\_loses\\\\\n",
       " <int> & <int>\\\\\n",
       "\\hline\n",
       "\t 6441 & 6441\\\\\n",
       "\\end{tabular}\n"
      ],
      "text/markdown": [
       "\n",
       "A tibble: 1 × 2\n",
       "\n",
       "| num_of_wins &lt;int&gt; | num_of_loses &lt;int&gt; |\n",
       "|---|---|\n",
       "| 6441 | 6441 |\n",
       "\n"
      ],
      "text/plain": [
       "  num_of_wins num_of_loses\n",
       "1 6441        6441        "
      ]
     },
     "metadata": {},
     "output_type": "display_data"
    },
    {
     "data": {
      "text/html": [
       "<table>\n",
       "<caption>A tibble: 1 × 9</caption>\n",
       "<thead>\n",
       "\t<tr><th scope=col>age</th><th scope=col>height</th><th scope=col>aces</th><th scope=col>double_faults</th><th scope=col>serve_points</th><th scope=col>first_serves_made</th><th scope=col>first_serve_points</th><th scope=col>serve_games</th><th scope=col>break_points_saved</th></tr>\n",
       "\t<tr><th scope=col>&lt;int&gt;</th><th scope=col>&lt;int&gt;</th><th scope=col>&lt;int&gt;</th><th scope=col>&lt;int&gt;</th><th scope=col>&lt;int&gt;</th><th scope=col>&lt;int&gt;</th><th scope=col>&lt;int&gt;</th><th scope=col>&lt;int&gt;</th><th scope=col>&lt;int&gt;</th></tr>\n",
       "</thead>\n",
       "<tbody>\n",
       "\t<tr><td>2</td><td>1129</td><td>233</td><td>233</td><td>233</td><td>233</td><td>233</td><td>233</td><td>233</td></tr>\n",
       "</tbody>\n",
       "</table>\n"
      ],
      "text/latex": [
       "A tibble: 1 × 9\n",
       "\\begin{tabular}{lllllllll}\n",
       " age & height & aces & double\\_faults & serve\\_points & first\\_serves\\_made & first\\_serve\\_points & serve\\_games & break\\_points\\_saved\\\\\n",
       " <int> & <int> & <int> & <int> & <int> & <int> & <int> & <int> & <int>\\\\\n",
       "\\hline\n",
       "\t 2 & 1129 & 233 & 233 & 233 & 233 & 233 & 233 & 233\\\\\n",
       "\\end{tabular}\n"
      ],
      "text/markdown": [
       "\n",
       "A tibble: 1 × 9\n",
       "\n",
       "| age &lt;int&gt; | height &lt;int&gt; | aces &lt;int&gt; | double_faults &lt;int&gt; | serve_points &lt;int&gt; | first_serves_made &lt;int&gt; | first_serve_points &lt;int&gt; | serve_games &lt;int&gt; | break_points_saved &lt;int&gt; |\n",
       "|---|---|---|---|---|---|---|---|---|\n",
       "| 2 | 1129 | 233 | 233 | 233 | 233 | 233 | 233 | 233 |\n",
       "\n"
      ],
      "text/plain": [
       "  age height aces double_faults serve_points first_serves_made\n",
       "1 2   1129   233  233           233          233              \n",
       "  first_serve_points serve_games break_points_saved\n",
       "1 233                233         233               "
      ]
     },
     "metadata": {},
     "output_type": "display_data"
    }
   ],
   "source": [
    "# mean for each predictor\n",
    "predictors_mean<- map_dfr(tennis_train[,2:10], mean, na.rm=TRUE)\n",
    "predictors_mean\n",
    "\n",
    "# distribution of match results in training set\n",
    "match_result_dist <- tibble(num_of_wins=nrow(filter(tennis_train, match_result=='win')), num_of_loses=nrow(filter(tennis_train, match_result=='lose')))\n",
    "match_result_dist\n",
    "\n",
    "# count of NA's in each predictor column\n",
    "count_of_nas <- map_dfr(tennis_train[,2:10], ~sum(is.na(.)))\n",
    "count_of_nas\n",
    "\n",
    "# summarize_all(tennis_train[,2:11], max, na.rm=TRUE)"
   ]
  },
  {
   "cell_type": "code",
   "execution_count": 33,
   "metadata": {},
   "outputs": [
    {
     "data": {
      "text/html": [
       "<table>\n",
       "<caption>A data.frame: 1 × 10</caption>\n",
       "<thead>\n",
       "\t<tr><th scope=col>age</th><th scope=col>height</th><th scope=col>aces</th><th scope=col>double_faults</th><th scope=col>serve_points</th><th scope=col>first_serves_made</th><th scope=col>first_serve_points</th><th scope=col>serve_games</th><th scope=col>break_points_saved</th><th scope=col>break_points_faced</th></tr>\n",
       "\t<tr><th scope=col>&lt;dbl&gt;</th><th scope=col>&lt;dbl&gt;</th><th scope=col>&lt;dbl&gt;</th><th scope=col>&lt;dbl&gt;</th><th scope=col>&lt;dbl&gt;</th><th scope=col>&lt;dbl&gt;</th><th scope=col>&lt;dbl&gt;</th><th scope=col>&lt;dbl&gt;</th><th scope=col>&lt;dbl&gt;</th><th scope=col>&lt;dbl&gt;</th></tr>\n",
       "</thead>\n",
       "<tbody>\n",
       "\t<tr><td>27.68747</td><td>187.2592</td><td>6.556891</td><td>3.096624</td><td>81.40199</td><td>49.99723</td><td>35.9233</td><td>12.75433</td><td>4.114968</td><td>6.735906</td></tr>\n",
       "</tbody>\n",
       "</table>\n"
      ],
      "text/latex": [
       "A data.frame: 1 × 10\n",
       "\\begin{tabular}{llllllllll}\n",
       " age & height & aces & double\\_faults & serve\\_points & first\\_serves\\_made & first\\_serve\\_points & serve\\_games & break\\_points\\_saved & break\\_points\\_faced\\\\\n",
       " <dbl> & <dbl> & <dbl> & <dbl> & <dbl> & <dbl> & <dbl> & <dbl> & <dbl> & <dbl>\\\\\n",
       "\\hline\n",
       "\t 27.68747 & 187.2592 & 6.556891 & 3.096624 & 81.40199 & 49.99723 & 35.9233 & 12.75433 & 4.114968 & 6.735906\\\\\n",
       "\\end{tabular}\n"
      ],
      "text/markdown": [
       "\n",
       "A data.frame: 1 × 10\n",
       "\n",
       "| age &lt;dbl&gt; | height &lt;dbl&gt; | aces &lt;dbl&gt; | double_faults &lt;dbl&gt; | serve_points &lt;dbl&gt; | first_serves_made &lt;dbl&gt; | first_serve_points &lt;dbl&gt; | serve_games &lt;dbl&gt; | break_points_saved &lt;dbl&gt; | break_points_faced &lt;dbl&gt; |\n",
       "|---|---|---|---|---|---|---|---|---|---|\n",
       "| 27.68747 | 187.2592 | 6.556891 | 3.096624 | 81.40199 | 49.99723 | 35.9233 | 12.75433 | 4.114968 | 6.735906 |\n",
       "\n"
      ],
      "text/plain": [
       "  age      height   aces     double_faults serve_points first_serves_made\n",
       "1 27.68747 187.2592 6.556891 3.096624      81.40199     49.99723         \n",
       "  first_serve_points serve_games break_points_saved break_points_faced\n",
       "1 35.9233            12.75433    4.114968           6.735906          "
      ]
     },
     "metadata": {},
     "output_type": "display_data"
    },
    {
     "data": {
      "text/html": [
       "<table>\n",
       "<caption>A data.frame: 1 × 10</caption>\n",
       "<thead>\n",
       "\t<tr><th scope=col>age</th><th scope=col>height</th><th scope=col>aces</th><th scope=col>double_faults</th><th scope=col>serve_points</th><th scope=col>first_serves_made</th><th scope=col>first_serve_points</th><th scope=col>serve_games</th><th scope=col>break_points_saved</th><th scope=col>break_points_faced</th></tr>\n",
       "\t<tr><th scope=col>&lt;dbl&gt;</th><th scope=col>&lt;dbl&gt;</th><th scope=col>&lt;int&gt;</th><th scope=col>&lt;int&gt;</th><th scope=col>&lt;int&gt;</th><th scope=col>&lt;int&gt;</th><th scope=col>&lt;int&gt;</th><th scope=col>&lt;int&gt;</th><th scope=col>&lt;int&gt;</th><th scope=col>&lt;int&gt;</th></tr>\n",
       "</thead>\n",
       "<tbody>\n",
       "\t<tr><td>46.03696</td><td>211</td><td>67</td><td>26</td><td>291</td><td>218</td><td>171</td><td>50</td><td>24</td><td>30</td></tr>\n",
       "</tbody>\n",
       "</table>\n"
      ],
      "text/latex": [
       "A data.frame: 1 × 10\n",
       "\\begin{tabular}{llllllllll}\n",
       " age & height & aces & double\\_faults & serve\\_points & first\\_serves\\_made & first\\_serve\\_points & serve\\_games & break\\_points\\_saved & break\\_points\\_faced\\\\\n",
       " <dbl> & <dbl> & <int> & <int> & <int> & <int> & <int> & <int> & <int> & <int>\\\\\n",
       "\\hline\n",
       "\t 46.03696 & 211 & 67 & 26 & 291 & 218 & 171 & 50 & 24 & 30\\\\\n",
       "\\end{tabular}\n"
      ],
      "text/markdown": [
       "\n",
       "A data.frame: 1 × 10\n",
       "\n",
       "| age &lt;dbl&gt; | height &lt;dbl&gt; | aces &lt;int&gt; | double_faults &lt;int&gt; | serve_points &lt;int&gt; | first_serves_made &lt;int&gt; | first_serve_points &lt;int&gt; | serve_games &lt;int&gt; | break_points_saved &lt;int&gt; | break_points_faced &lt;int&gt; |\n",
       "|---|---|---|---|---|---|---|---|---|---|\n",
       "| 46.03696 | 211 | 67 | 26 | 291 | 218 | 171 | 50 | 24 | 30 |\n",
       "\n"
      ],
      "text/plain": [
       "  age      height aces double_faults serve_points first_serves_made\n",
       "1 46.03696 211    67   26            291          218              \n",
       "  first_serve_points serve_games break_points_saved break_points_faced\n",
       "1 171                50          24                 30                "
      ]
     },
     "metadata": {},
     "output_type": "display_data"
    },
    {
     "data": {
      "text/html": [
       "<table>\n",
       "<caption>A data.frame: 1 × 10</caption>\n",
       "<thead>\n",
       "\t<tr><th scope=col>age</th><th scope=col>height</th><th scope=col>aces</th><th scope=col>double_faults</th><th scope=col>serve_points</th><th scope=col>first_serves_made</th><th scope=col>first_serve_points</th><th scope=col>serve_games</th><th scope=col>break_points_saved</th><th scope=col>break_points_faced</th></tr>\n",
       "\t<tr><th scope=col>&lt;dbl&gt;</th><th scope=col>&lt;dbl&gt;</th><th scope=col>&lt;int&gt;</th><th scope=col>&lt;int&gt;</th><th scope=col>&lt;int&gt;</th><th scope=col>&lt;int&gt;</th><th scope=col>&lt;int&gt;</th><th scope=col>&lt;int&gt;</th><th scope=col>&lt;int&gt;</th><th scope=col>&lt;int&gt;</th></tr>\n",
       "</thead>\n",
       "<tbody>\n",
       "\t<tr><td>14.51335</td><td>1.83</td><td>0</td><td>0</td><td>0</td><td>0</td><td>0</td><td>0</td><td>0</td><td>0</td></tr>\n",
       "</tbody>\n",
       "</table>\n"
      ],
      "text/latex": [
       "A data.frame: 1 × 10\n",
       "\\begin{tabular}{llllllllll}\n",
       " age & height & aces & double\\_faults & serve\\_points & first\\_serves\\_made & first\\_serve\\_points & serve\\_games & break\\_points\\_saved & break\\_points\\_faced\\\\\n",
       " <dbl> & <dbl> & <int> & <int> & <int> & <int> & <int> & <int> & <int> & <int>\\\\\n",
       "\\hline\n",
       "\t 14.51335 & 1.83 & 0 & 0 & 0 & 0 & 0 & 0 & 0 & 0\\\\\n",
       "\\end{tabular}\n"
      ],
      "text/markdown": [
       "\n",
       "A data.frame: 1 × 10\n",
       "\n",
       "| age &lt;dbl&gt; | height &lt;dbl&gt; | aces &lt;int&gt; | double_faults &lt;int&gt; | serve_points &lt;int&gt; | first_serves_made &lt;int&gt; | first_serve_points &lt;int&gt; | serve_games &lt;int&gt; | break_points_saved &lt;int&gt; | break_points_faced &lt;int&gt; |\n",
       "|---|---|---|---|---|---|---|---|---|---|\n",
       "| 14.51335 | 1.83 | 0 | 0 | 0 | 0 | 0 | 0 | 0 | 0 |\n",
       "\n"
      ],
      "text/plain": [
       "  age      height aces double_faults serve_points first_serves_made\n",
       "1 14.51335 1.83   0    0             0            0                \n",
       "  first_serve_points serve_games break_points_saved break_points_faced\n",
       "1 0                  0           0                  0                 "
      ]
     },
     "metadata": {},
     "output_type": "display_data"
    },
    {
     "data": {
      "text/html": [
       "<table>\n",
       "<caption>A data.frame: 1 × 10</caption>\n",
       "<thead>\n",
       "\t<tr><th scope=col>age</th><th scope=col>height</th><th scope=col>aces</th><th scope=col>double_faults</th><th scope=col>serve_points</th><th scope=col>first_serves_made</th><th scope=col>first_serve_points</th><th scope=col>serve_games</th><th scope=col>break_points_saved</th><th scope=col>break_points_faced</th></tr>\n",
       "\t<tr><th scope=col>&lt;dbl&gt;</th><th scope=col>&lt;dbl&gt;</th><th scope=col>&lt;int&gt;</th><th scope=col>&lt;int&gt;</th><th scope=col>&lt;int&gt;</th><th scope=col>&lt;int&gt;</th><th scope=col>&lt;int&gt;</th><th scope=col>&lt;int&gt;</th><th scope=col>&lt;int&gt;</th><th scope=col>&lt;int&gt;</th></tr>\n",
       "</thead>\n",
       "<tbody>\n",
       "\t<tr><td>27.94251</td><td>188</td><td>5</td><td>3</td><td>77</td><td>47</td><td>34</td><td>12</td><td>4</td><td>6</td></tr>\n",
       "</tbody>\n",
       "</table>\n"
      ],
      "text/latex": [
       "A data.frame: 1 × 10\n",
       "\\begin{tabular}{llllllllll}\n",
       " age & height & aces & double\\_faults & serve\\_points & first\\_serves\\_made & first\\_serve\\_points & serve\\_games & break\\_points\\_saved & break\\_points\\_faced\\\\\n",
       " <dbl> & <dbl> & <int> & <int> & <int> & <int> & <int> & <int> & <int> & <int>\\\\\n",
       "\\hline\n",
       "\t 27.94251 & 188 & 5 & 3 & 77 & 47 & 34 & 12 & 4 & 6\\\\\n",
       "\\end{tabular}\n"
      ],
      "text/markdown": [
       "\n",
       "A data.frame: 1 × 10\n",
       "\n",
       "| age &lt;dbl&gt; | height &lt;dbl&gt; | aces &lt;int&gt; | double_faults &lt;int&gt; | serve_points &lt;int&gt; | first_serves_made &lt;int&gt; | first_serve_points &lt;int&gt; | serve_games &lt;int&gt; | break_points_saved &lt;int&gt; | break_points_faced &lt;int&gt; |\n",
       "|---|---|---|---|---|---|---|---|---|---|\n",
       "| 27.94251 | 188 | 5 | 3 | 77 | 47 | 34 | 12 | 4 | 6 |\n",
       "\n"
      ],
      "text/plain": [
       "  age      height aces double_faults serve_points first_serves_made\n",
       "1 27.94251 188    5    3             77           47               \n",
       "  first_serve_points serve_games break_points_saved break_points_faced\n",
       "1 34                 12          4                  6                 "
      ]
     },
     "metadata": {},
     "output_type": "display_data"
    },
    {
     "data": {
      "text/html": [
       "<table>\n",
       "<caption>A data.frame: 1 × 10</caption>\n",
       "<thead>\n",
       "\t<tr><th scope=col>age</th><th scope=col>height</th><th scope=col>aces</th><th scope=col>double_faults</th><th scope=col>serve_points</th><th scope=col>first_serves_made</th><th scope=col>first_serve_points</th><th scope=col>serve_games</th><th scope=col>break_points_saved</th><th scope=col>break_points_faced</th></tr>\n",
       "\t<tr><th scope=col>&lt;dbl&gt;</th><th scope=col>&lt;dbl&gt;</th><th scope=col>&lt;dbl&gt;</th><th scope=col>&lt;dbl&gt;</th><th scope=col>&lt;dbl&gt;</th><th scope=col>&lt;dbl&gt;</th><th scope=col>&lt;dbl&gt;</th><th scope=col>&lt;dbl&gt;</th><th scope=col>&lt;dbl&gt;</th><th scope=col>&lt;dbl&gt;</th></tr>\n",
       "</thead>\n",
       "<tbody>\n",
       "\t<tr><td>4.716834</td><td>7.940073</td><td>5.741925</td><td>2.438423</td><td>29.61999</td><td>19.35082</td><td>14.40497</td><td>4.292833</td><td>3.280098</td><td>4.493955</td></tr>\n",
       "</tbody>\n",
       "</table>\n"
      ],
      "text/latex": [
       "A data.frame: 1 × 10\n",
       "\\begin{tabular}{llllllllll}\n",
       " age & height & aces & double\\_faults & serve\\_points & first\\_serves\\_made & first\\_serve\\_points & serve\\_games & break\\_points\\_saved & break\\_points\\_faced\\\\\n",
       " <dbl> & <dbl> & <dbl> & <dbl> & <dbl> & <dbl> & <dbl> & <dbl> & <dbl> & <dbl>\\\\\n",
       "\\hline\n",
       "\t 4.716834 & 7.940073 & 5.741925 & 2.438423 & 29.61999 & 19.35082 & 14.40497 & 4.292833 & 3.280098 & 4.493955\\\\\n",
       "\\end{tabular}\n"
      ],
      "text/markdown": [
       "\n",
       "A data.frame: 1 × 10\n",
       "\n",
       "| age &lt;dbl&gt; | height &lt;dbl&gt; | aces &lt;dbl&gt; | double_faults &lt;dbl&gt; | serve_points &lt;dbl&gt; | first_serves_made &lt;dbl&gt; | first_serve_points &lt;dbl&gt; | serve_games &lt;dbl&gt; | break_points_saved &lt;dbl&gt; | break_points_faced &lt;dbl&gt; |\n",
       "|---|---|---|---|---|---|---|---|---|---|\n",
       "| 4.716834 | 7.940073 | 5.741925 | 2.438423 | 29.61999 | 19.35082 | 14.40497 | 4.292833 | 3.280098 | 4.493955 |\n",
       "\n"
      ],
      "text/plain": [
       "  age      height   aces     double_faults serve_points first_serves_made\n",
       "1 4.716834 7.940073 5.741925 2.438423      29.61999     19.35082         \n",
       "  first_serve_points serve_games break_points_saved break_points_faced\n",
       "1 14.40497           4.292833    3.280098           4.493955          "
      ]
     },
     "metadata": {},
     "output_type": "display_data"
    }
   ],
   "source": [
    "# Caluclate summary stats for each predictor column\n",
    "\n",
    "means_df <- summarize_all(tennis_train[,2:11], mean, na.rm=TRUE)\n",
    "max_df <- summarize_all(tennis_train[,2:11], max, na.rm=TRUE)\n",
    "min_df <- summarize_all(tennis_train[,2:11], min, na.rm=TRUE)\n",
    "median_df <- summarize_all(tennis_train[,2:11], median, na.rm=TRUE)\n",
    "sd_df <- summarize_all(tennis_train[,2:11], sd, na.rm=TRUE)\n",
    "\n",
    "means_df\n",
    "max_df\n",
    "min_df\n",
    "median_df\n",
    "sd_df"
   ]
  },
  {
   "cell_type": "code",
   "execution_count": 40,
   "metadata": {},
   "outputs": [
    {
     "data": {
      "text/html": [
       "0.484814578005115"
      ],
      "text/latex": [
       "0.484814578005115"
      ],
      "text/markdown": [
       "0.484814578005115"
      ],
      "text/plain": [
       "[1] 0.4848146"
      ]
     },
     "metadata": {},
     "output_type": "display_data"
    },
    {
     "data": {
      "text/html": [
       "0.514341787439614"
      ],
      "text/latex": [
       "0.514341787439614"
      ],
      "text/markdown": [
       "0.514341787439614"
      ],
      "text/plain": [
       "[1] 0.5143418"
      ]
     },
     "metadata": {},
     "output_type": "display_data"
    }
   ],
   "source": [
    "# Do younger players win more than older players? From the mean, we say that players who are 27 or younger are young players,\n",
    "# and players with age 27 and greater are old players\n",
    "\n",
    "threshold <- pull(means_df, age)\n",
    "\n",
    "young <- filter(tennis_train, age <= threshold, match_result == 'win')\n",
    "old <- filter(tennis_train, age > threshold, match_result == 'win')\n",
    "\n",
    "young_win_prob <- nrow(young)/nrow(filter(tennis_train, age <= threshold))\n",
    "old_win_prob <- nrow(old)/nrow(filter(tennis_train, age > threshold))\n",
    "\n",
    "young_win_prob\n",
    "old_win_prob"
   ]
  },
  {
   "cell_type": "code",
   "execution_count": 41,
   "metadata": {},
   "outputs": [
    {
     "data": {
      "text/html": [
       "0.506792247781199"
      ],
      "text/latex": [
       "0.506792247781199"
      ],
      "text/markdown": [
       "0.506792247781199"
      ],
      "text/plain": [
       "[1] 0.5067922"
      ]
     },
     "metadata": {},
     "output_type": "display_data"
    },
    {
     "data": {
      "text/html": [
       "0.524903598971722"
      ],
      "text/latex": [
       "0.524903598971722"
      ],
      "text/markdown": [
       "0.524903598971722"
      ],
      "text/plain": [
       "[1] 0.5249036"
      ]
     },
     "metadata": {},
     "output_type": "display_data"
    }
   ],
   "source": [
    "# Do taller players have a higher winrate than shorter players? We set the threshold to me the mean height of players\n",
    "\n",
    "threshold <- pull(means_df, height)\n",
    "\n",
    "tall <- filter(tennis_train, height <= threshold, match_result == 'win')\n",
    "short <- filter(tennis_train, height > threshold, match_result == 'win')\n",
    "\n",
    "tall_win_prob <- nrow(tall)/nrow(filter(tennis_train, height <= threshold))\n",
    "short_win_prob <- nrow(short)/nrow(filter(tennis_train, height > threshold))\n",
    "\n",
    "tall_win_prob\n",
    "short_win_prob"
   ]
  },
  {
   "cell_type": "code",
   "execution_count": 10,
   "metadata": {},
   "outputs": [
    {
     "name": "stderr",
     "output_type": "stream",
     "text": [
      "Warning message:\n",
      "“Removed 3 rows containing non-finite values (stat_boxplot).”\n",
      "Warning message:\n",
      "“Removed 1112 rows containing non-finite values (stat_boxplot).”\n",
      "Warning message:\n",
      "“Removed 350 rows containing non-finite values (stat_boxplot).”\n",
      "Warning message:\n",
      "“Removed 350 rows containing non-finite values (stat_boxplot).”\n",
      "Warning message:\n",
      "“Removed 350 rows containing non-finite values (stat_boxplot).”\n",
      "Warning message:\n",
      "“Removed 350 rows containing non-finite values (stat_boxplot).”\n",
      "Warning message:\n",
      "“Removed 350 rows containing non-finite values (stat_boxplot).”\n",
      "Warning message:\n",
      "“Removed 350 rows containing non-finite values (stat_boxplot).”\n",
      "Warning message:\n",
      "“Removed 350 rows containing non-finite values (stat_boxplot).”\n",
      "Warning message:\n",
      "“Removed 350 rows containing non-finite values (stat_boxplot).”\n",
      "`stat_bin()` using `bins = 30`. Pick better value with `binwidth`.\n",
      "\n",
      "Warning message:\n",
      "“Removed 3 rows containing non-finite values (stat_bin).”\n",
      "Warning message:\n",
      "“Removed 3 rows containing non-finite values (stat_density).”\n",
      "Warning message in (function (data, mapping, alignPercent = 0.6, method = \"pearson\", :\n",
      "“Removed 1112 rows containing missing values”\n",
      "Warning message in (function (data, mapping, alignPercent = 0.6, method = \"pearson\", :\n",
      "“Removed 350 rows containing missing values”\n",
      "Warning message in (function (data, mapping, alignPercent = 0.6, method = \"pearson\", :\n",
      "“Removed 350 rows containing missing values”\n",
      "Warning message in (function (data, mapping, alignPercent = 0.6, method = \"pearson\", :\n",
      "“Removed 350 rows containing missing values”\n",
      "Warning message in (function (data, mapping, alignPercent = 0.6, method = \"pearson\", :\n",
      "“Removed 350 rows containing missing values”\n",
      "Warning message in (function (data, mapping, alignPercent = 0.6, method = \"pearson\", :\n",
      "“Removed 350 rows containing missing values”\n",
      "Warning message in (function (data, mapping, alignPercent = 0.6, method = \"pearson\", :\n",
      "“Removed 350 rows containing missing values”\n",
      "Warning message in (function (data, mapping, alignPercent = 0.6, method = \"pearson\", :\n",
      "“Removed 350 rows containing missing values”\n",
      "Warning message in (function (data, mapping, alignPercent = 0.6, method = \"pearson\", :\n",
      "“Removed 350 rows containing missing values”\n",
      "Warning message:\n",
      "“Removed 3 rows containing non-finite values (stat_boxplot).”\n",
      "`stat_bin()` using `bins = 30`. Pick better value with `binwidth`.\n",
      "\n",
      "Warning message:\n",
      "“Removed 1112 rows containing non-finite values (stat_bin).”\n",
      "Warning message:\n",
      "“Removed 1112 rows containing missing values (geom_point).”\n",
      "Warning message:\n",
      "“Removed 1112 rows containing non-finite values (stat_density).”\n",
      "Warning message in (function (data, mapping, alignPercent = 0.6, method = \"pearson\", :\n",
      "“Removed 1314 rows containing missing values”\n",
      "Warning message in (function (data, mapping, alignPercent = 0.6, method = \"pearson\", :\n",
      "“Removed 1314 rows containing missing values”\n",
      "Warning message in (function (data, mapping, alignPercent = 0.6, method = \"pearson\", :\n",
      "“Removed 1314 rows containing missing values”\n",
      "Warning message in (function (data, mapping, alignPercent = 0.6, method = \"pearson\", :\n",
      "“Removed 1314 rows containing missing values”\n",
      "Warning message in (function (data, mapping, alignPercent = 0.6, method = \"pearson\", :\n",
      "“Removed 1314 rows containing missing values”\n",
      "Warning message in (function (data, mapping, alignPercent = 0.6, method = \"pearson\", :\n",
      "“Removed 1314 rows containing missing values”\n",
      "Warning message in (function (data, mapping, alignPercent = 0.6, method = \"pearson\", :\n",
      "“Removed 1314 rows containing missing values”\n",
      "Warning message in (function (data, mapping, alignPercent = 0.6, method = \"pearson\", :\n",
      "“Removed 1314 rows containing missing values”\n",
      "Warning message:\n",
      "“Removed 1112 rows containing non-finite values (stat_boxplot).”\n",
      "`stat_bin()` using `bins = 30`. Pick better value with `binwidth`.\n",
      "\n",
      "Warning message:\n",
      "“Removed 350 rows containing non-finite values (stat_bin).”\n",
      "Warning message:\n",
      "“Removed 350 rows containing missing values (geom_point).”\n",
      "Warning message:\n",
      "“Removed 1314 rows containing missing values (geom_point).”\n",
      "Warning message:\n",
      "“Removed 350 rows containing non-finite values (stat_density).”\n",
      "Warning message in (function (data, mapping, alignPercent = 0.6, method = \"pearson\", :\n",
      "“Removed 350 rows containing missing values”\n",
      "Warning message in (function (data, mapping, alignPercent = 0.6, method = \"pearson\", :\n",
      "“Removed 350 rows containing missing values”\n",
      "Warning message in (function (data, mapping, alignPercent = 0.6, method = \"pearson\", :\n",
      "“Removed 350 rows containing missing values”\n",
      "Warning message in (function (data, mapping, alignPercent = 0.6, method = \"pearson\", :\n",
      "“Removed 350 rows containing missing values”\n",
      "Warning message in (function (data, mapping, alignPercent = 0.6, method = \"pearson\", :\n",
      "“Removed 350 rows containing missing values”\n",
      "Warning message in (function (data, mapping, alignPercent = 0.6, method = \"pearson\", :\n",
      "“Removed 350 rows containing missing values”\n",
      "Warning message in (function (data, mapping, alignPercent = 0.6, method = \"pearson\", :\n",
      "“Removed 350 rows containing missing values”\n",
      "Warning message:\n",
      "“Removed 350 rows containing non-finite values (stat_boxplot).”\n",
      "`stat_bin()` using `bins = 30`. Pick better value with `binwidth`.\n",
      "\n",
      "Warning message:\n",
      "“Removed 350 rows containing non-finite values (stat_bin).”\n",
      "Warning message:\n",
      "“Removed 350 rows containing missing values (geom_point).”\n",
      "Warning message:\n",
      "“Removed 1314 rows containing missing values (geom_point).”\n",
      "Warning message:\n",
      "“Removed 350 rows containing missing values (geom_point).”\n",
      "Warning message:\n",
      "“Removed 350 rows containing non-finite values (stat_density).”\n",
      "Warning message in (function (data, mapping, alignPercent = 0.6, method = \"pearson\", :\n",
      "“Removed 350 rows containing missing values”\n",
      "Warning message in (function (data, mapping, alignPercent = 0.6, method = \"pearson\", :\n",
      "“Removed 350 rows containing missing values”\n",
      "Warning message in (function (data, mapping, alignPercent = 0.6, method = \"pearson\", :\n",
      "“Removed 350 rows containing missing values”\n",
      "Warning message in (function (data, mapping, alignPercent = 0.6, method = \"pearson\", :\n",
      "“Removed 350 rows containing missing values”\n",
      "Warning message in (function (data, mapping, alignPercent = 0.6, method = \"pearson\", :\n",
      "“Removed 350 rows containing missing values”\n",
      "Warning message in (function (data, mapping, alignPercent = 0.6, method = \"pearson\", :\n",
      "“Removed 350 rows containing missing values”\n",
      "Warning message:\n",
      "“Removed 350 rows containing non-finite values (stat_boxplot).”\n",
      "`stat_bin()` using `bins = 30`. Pick better value with `binwidth`.\n",
      "\n",
      "Warning message:\n",
      "“Removed 350 rows containing non-finite values (stat_bin).”\n",
      "Warning message:\n",
      "“Removed 350 rows containing missing values (geom_point).”\n",
      "Warning message:\n",
      "“Removed 1314 rows containing missing values (geom_point).”\n",
      "Warning message:\n",
      "“Removed 350 rows containing missing values (geom_point).”\n",
      "Warning message:\n",
      "“Removed 350 rows containing missing values (geom_point).”\n",
      "Warning message:\n",
      "“Removed 350 rows containing non-finite values (stat_density).”\n",
      "Warning message in (function (data, mapping, alignPercent = 0.6, method = \"pearson\", :\n",
      "“Removed 350 rows containing missing values”\n",
      "Warning message in (function (data, mapping, alignPercent = 0.6, method = \"pearson\", :\n",
      "“Removed 350 rows containing missing values”\n",
      "Warning message in (function (data, mapping, alignPercent = 0.6, method = \"pearson\", :\n",
      "“Removed 350 rows containing missing values”\n",
      "Warning message in (function (data, mapping, alignPercent = 0.6, method = \"pearson\", :\n",
      "“Removed 350 rows containing missing values”\n",
      "Warning message in (function (data, mapping, alignPercent = 0.6, method = \"pearson\", :\n",
      "“Removed 350 rows containing missing values”\n",
      "Warning message:\n",
      "“Removed 350 rows containing non-finite values (stat_boxplot).”\n",
      "`stat_bin()` using `bins = 30`. Pick better value with `binwidth`.\n",
      "\n",
      "Warning message:\n",
      "“Removed 350 rows containing non-finite values (stat_bin).”\n",
      "Warning message:\n",
      "“Removed 350 rows containing missing values (geom_point).”\n",
      "Warning message:\n",
      "“Removed 1314 rows containing missing values (geom_point).”\n",
      "Warning message:\n",
      "“Removed 350 rows containing missing values (geom_point).”\n",
      "Warning message:\n",
      "“Removed 350 rows containing missing values (geom_point).”\n",
      "Warning message:\n",
      "“Removed 350 rows containing missing values (geom_point).”\n",
      "Warning message:\n",
      "“Removed 350 rows containing non-finite values (stat_density).”\n",
      "Warning message in (function (data, mapping, alignPercent = 0.6, method = \"pearson\", :\n",
      "“Removed 350 rows containing missing values”\n",
      "Warning message in (function (data, mapping, alignPercent = 0.6, method = \"pearson\", :\n",
      "“Removed 350 rows containing missing values”\n",
      "Warning message in (function (data, mapping, alignPercent = 0.6, method = \"pearson\", :\n",
      "“Removed 350 rows containing missing values”\n",
      "Warning message in (function (data, mapping, alignPercent = 0.6, method = \"pearson\", :\n",
      "“Removed 350 rows containing missing values”\n",
      "Warning message:\n",
      "“Removed 350 rows containing non-finite values (stat_boxplot).”\n",
      "`stat_bin()` using `bins = 30`. Pick better value with `binwidth`.\n",
      "\n",
      "Warning message:\n",
      "“Removed 350 rows containing non-finite values (stat_bin).”\n",
      "Warning message:\n",
      "“Removed 350 rows containing missing values (geom_point).”\n",
      "Warning message:\n",
      "“Removed 1314 rows containing missing values (geom_point).”\n",
      "Warning message:\n",
      "“Removed 350 rows containing missing values (geom_point).”\n",
      "Warning message:\n",
      "“Removed 350 rows containing missing values (geom_point).”\n",
      "Warning message:\n",
      "“Removed 350 rows containing missing values (geom_point).”\n",
      "Warning message:\n",
      "“Removed 350 rows containing missing values (geom_point).”\n",
      "Warning message:\n",
      "“Removed 350 rows containing non-finite values (stat_density).”\n",
      "Warning message in (function (data, mapping, alignPercent = 0.6, method = \"pearson\", :\n",
      "“Removed 350 rows containing missing values”\n",
      "Warning message in (function (data, mapping, alignPercent = 0.6, method = \"pearson\", :\n",
      "“Removed 350 rows containing missing values”\n",
      "Warning message in (function (data, mapping, alignPercent = 0.6, method = \"pearson\", :\n",
      "“Removed 350 rows containing missing values”\n",
      "Warning message:\n",
      "“Removed 350 rows containing non-finite values (stat_boxplot).”\n",
      "`stat_bin()` using `bins = 30`. Pick better value with `binwidth`.\n",
      "\n",
      "Warning message:\n",
      "“Removed 350 rows containing non-finite values (stat_bin).”\n",
      "Warning message:\n",
      "“Removed 350 rows containing missing values (geom_point).”\n",
      "Warning message:\n",
      "“Removed 1314 rows containing missing values (geom_point).”\n",
      "Warning message:\n",
      "“Removed 350 rows containing missing values (geom_point).”\n",
      "Warning message:\n",
      "“Removed 350 rows containing missing values (geom_point).”\n",
      "Warning message:\n",
      "“Removed 350 rows containing missing values (geom_point).”\n",
      "Warning message:\n",
      "“Removed 350 rows containing missing values (geom_point).”\n",
      "Warning message:\n",
      "“Removed 350 rows containing missing values (geom_point).”\n",
      "Warning message:\n",
      "“Removed 350 rows containing non-finite values (stat_density).”\n",
      "Warning message in (function (data, mapping, alignPercent = 0.6, method = \"pearson\", :\n",
      "“Removed 350 rows containing missing values”\n",
      "Warning message in (function (data, mapping, alignPercent = 0.6, method = \"pearson\", :\n",
      "“Removed 350 rows containing missing values”\n",
      "Warning message:\n",
      "“Removed 350 rows containing non-finite values (stat_boxplot).”\n",
      "`stat_bin()` using `bins = 30`. Pick better value with `binwidth`.\n",
      "\n",
      "Warning message:\n",
      "“Removed 350 rows containing non-finite values (stat_bin).”\n",
      "Warning message:\n",
      "“Removed 350 rows containing missing values (geom_point).”\n",
      "Warning message:\n",
      "“Removed 1314 rows containing missing values (geom_point).”\n",
      "Warning message:\n",
      "“Removed 350 rows containing missing values (geom_point).”\n",
      "Warning message:\n",
      "“Removed 350 rows containing missing values (geom_point).”\n",
      "Warning message:\n",
      "“Removed 350 rows containing missing values (geom_point).”\n",
      "Warning message:\n",
      "“Removed 350 rows containing missing values (geom_point).”\n",
      "Warning message:\n",
      "“Removed 350 rows containing missing values (geom_point).”\n",
      "Warning message:\n",
      "“Removed 350 rows containing missing values (geom_point).”\n",
      "Warning message:\n",
      "“Removed 350 rows containing non-finite values (stat_density).”\n",
      "Warning message in (function (data, mapping, alignPercent = 0.6, method = \"pearson\", :\n",
      "“Removed 350 rows containing missing values”\n",
      "Warning message:\n",
      "“Removed 350 rows containing non-finite values (stat_boxplot).”\n",
      "`stat_bin()` using `bins = 30`. Pick better value with `binwidth`.\n",
      "\n",
      "Warning message:\n",
      "“Removed 350 rows containing non-finite values (stat_bin).”\n",
      "Warning message:\n",
      "“Removed 350 rows containing missing values (geom_point).”\n",
      "Warning message:\n",
      "“Removed 1314 rows containing missing values (geom_point).”\n",
      "Warning message:\n",
      "“Removed 350 rows containing missing values (geom_point).”\n",
      "Warning message:\n",
      "“Removed 350 rows containing missing values (geom_point).”\n",
      "Warning message:\n",
      "“Removed 350 rows containing missing values (geom_point).”\n",
      "Warning message:\n",
      "“Removed 350 rows containing missing values (geom_point).”\n",
      "Warning message:\n",
      "“Removed 350 rows containing missing values (geom_point).”\n",
      "Warning message:\n",
      "“Removed 350 rows containing missing values (geom_point).”\n",
      "Warning message:\n",
      "“Removed 350 rows containing missing values (geom_point).”\n",
      "Warning message:\n",
      "“Removed 350 rows containing non-finite values (stat_density).”\n",
      "Warning message:\n",
      "“Removed 350 rows containing non-finite values (stat_boxplot).”\n",
      "`stat_bin()` using `bins = 30`. Pick better value with `binwidth`.\n",
      "\n",
      "Warning message:\n",
      "“Removed 3 rows containing non-finite values (stat_bin).”\n",
      "`stat_bin()` using `bins = 30`. Pick better value with `binwidth`.\n",
      "\n",
      "Warning message:\n",
      "“Removed 1112 rows containing non-finite values (stat_bin).”\n",
      "`stat_bin()` using `bins = 30`. Pick better value with `binwidth`.\n",
      "\n",
      "Warning message:\n",
      "“Removed 350 rows containing non-finite values (stat_bin).”\n",
      "`stat_bin()` using `bins = 30`. Pick better value with `binwidth`.\n",
      "\n",
      "Warning message:\n",
      "“Removed 350 rows containing non-finite values (stat_bin).”\n",
      "`stat_bin()` using `bins = 30`. Pick better value with `binwidth`.\n",
      "\n",
      "Warning message:\n",
      "“Removed 350 rows containing non-finite values (stat_bin).”\n",
      "`stat_bin()` using `bins = 30`. Pick better value with `binwidth`.\n",
      "\n",
      "Warning message:\n",
      "“Removed 350 rows containing non-finite values (stat_bin).”\n",
      "`stat_bin()` using `bins = 30`. Pick better value with `binwidth`.\n",
      "\n",
      "Warning message:\n",
      "“Removed 350 rows containing non-finite values (stat_bin).”\n",
      "`stat_bin()` using `bins = 30`. Pick better value with `binwidth`.\n",
      "\n",
      "Warning message:\n",
      "“Removed 350 rows containing non-finite values (stat_bin).”\n",
      "`stat_bin()` using `bins = 30`. Pick better value with `binwidth`.\n",
      "\n",
      "Warning message:\n",
      "“Removed 350 rows containing non-finite values (stat_bin).”\n",
      "`stat_bin()` using `bins = 30`. Pick better value with `binwidth`.\n",
      "\n",
      "Warning message:\n",
      "“Removed 350 rows containing non-finite values (stat_bin).”\n"
     ]
    },
    {
     "data": {
      "image/png": "[encoded data removed]",
      "text/plain": [
       "plot without title"
      ]
     },
     "metadata": {
      "image/png": {
       "height": 420,
       "width": 420
      }
     },
     "output_type": "display_data"
    }
   ],
   "source": [
    "tennis_eda <- ggpairs(tennis_train, cardinality_threshold=500)\n",
    "tennis_eda"
   ]
  },
  {
   "cell_type": "code",
   "execution_count": null,
   "metadata": {},
   "outputs": [],
   "source": []
  }
 ],
 "metadata": {
  "kernelspec": {
   "display_name": "R",
   "language": "R",
   "name": "ir"
  },
  "language_info": {
   "codemirror_mode": "r",
   "file_extension": ".r",
   "mimetype": "text/x-r-source",
   "name": "R",
   "pygments_lexer": "r",
   "version": "4.0.0"
  }
 },
 "nbformat": 4,
 "nbformat_minor": 4
}
